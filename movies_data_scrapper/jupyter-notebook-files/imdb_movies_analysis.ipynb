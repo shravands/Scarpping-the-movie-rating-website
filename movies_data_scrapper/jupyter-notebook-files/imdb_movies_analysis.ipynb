{
 "cells": [
  {
   "cell_type": "markdown",
   "metadata": {},
   "source": [
    "## Just trying to get the insights from first view"
   ]
  },
  {
   "cell_type": "code",
   "execution_count": 20,
   "metadata": {},
   "outputs": [],
   "source": [
    "import pandas as pd \n",
    "import numpy as np \n",
    "import matplotlib.pyplot as plt\n",
    "from sklearn.preprocessing import LabelEncoder"
   ]
  },
  {
   "cell_type": "code",
   "execution_count": 2,
   "metadata": {},
   "outputs": [],
   "source": [
    "data = pd.read_csv('moviesimdb.csv')"
   ]
  },
  {
   "cell_type": "code",
   "execution_count": 3,
   "metadata": {},
   "outputs": [],
   "source": [
    "data.drop('Unnamed: 0', axis=1, inplace = True)"
   ]
  },
  {
   "cell_type": "code",
   "execution_count": 4,
   "metadata": {},
   "outputs": [
    {
     "data": {
      "text/html": [
       "<div>\n",
       "<style scoped>\n",
       "    .dataframe tbody tr th:only-of-type {\n",
       "        vertical-align: middle;\n",
       "    }\n",
       "\n",
       "    .dataframe tbody tr th {\n",
       "        vertical-align: top;\n",
       "    }\n",
       "\n",
       "    .dataframe thead th {\n",
       "        text-align: right;\n",
       "    }\n",
       "</style>\n",
       "<table border=\"1\" class=\"dataframe\">\n",
       "  <thead>\n",
       "    <tr style=\"text-align: right;\">\n",
       "      <th></th>\n",
       "      <th>movie_name</th>\n",
       "      <th>movie_year</th>\n",
       "      <th>movie_rating</th>\n",
       "      <th>no_ratings</th>\n",
       "      <th>movie_length</th>\n",
       "      <th>genre1</th>\n",
       "      <th>genre2</th>\n",
       "      <th>genre3</th>\n",
       "      <th>genre4</th>\n",
       "      <th>summary</th>\n",
       "      <th>...</th>\n",
       "      <th>star1</th>\n",
       "      <th>star2</th>\n",
       "      <th>star3</th>\n",
       "      <th>star4</th>\n",
       "      <th>star5</th>\n",
       "      <th>release_date_act</th>\n",
       "      <th>release_country</th>\n",
       "      <th>sound1</th>\n",
       "      <th>sound2</th>\n",
       "      <th>labels</th>\n",
       "    </tr>\n",
       "  </thead>\n",
       "  <tbody>\n",
       "    <tr>\n",
       "      <th>0</th>\n",
       "      <td>The Shawshank Redemption</td>\n",
       "      <td>1994</td>\n",
       "      <td>9.3</td>\n",
       "      <td>2041257.0</td>\n",
       "      <td>2h 22min</td>\n",
       "      <td>Drama</td>\n",
       "      <td>NaN</td>\n",
       "      <td>NaN</td>\n",
       "      <td>NaN</td>\n",
       "      <td>Two imprisoned men bond over a number of years...</td>\n",
       "      <td>...</td>\n",
       "      <td>Tim Robbins</td>\n",
       "      <td>Morgan Freeman</td>\n",
       "      <td>Bob Gunton</td>\n",
       "      <td>See full cast &amp; crew</td>\n",
       "      <td>NaN</td>\n",
       "      <td>1994-10-14</td>\n",
       "      <td>USA</td>\n",
       "      <td>Dolby Digital</td>\n",
       "      <td>SDDS</td>\n",
       "      <td>good</td>\n",
       "    </tr>\n",
       "    <tr>\n",
       "      <th>1</th>\n",
       "      <td>The Godfather</td>\n",
       "      <td>1972</td>\n",
       "      <td>9.2</td>\n",
       "      <td>1400023.0</td>\n",
       "      <td>2h 55min</td>\n",
       "      <td>Crime</td>\n",
       "      <td>Drama</td>\n",
       "      <td>NaN</td>\n",
       "      <td>NaN</td>\n",
       "      <td>The aging patriarch of an organized crime dyna...</td>\n",
       "      <td>...</td>\n",
       "      <td>Marlon Brando</td>\n",
       "      <td>Al Pacino</td>\n",
       "      <td>James Caan</td>\n",
       "      <td>See full cast &amp; crew</td>\n",
       "      <td>NaN</td>\n",
       "      <td>1972-03-24</td>\n",
       "      <td>USA</td>\n",
       "      <td>DTS</td>\n",
       "      <td>Mono</td>\n",
       "      <td>good</td>\n",
       "    </tr>\n",
       "    <tr>\n",
       "      <th>2</th>\n",
       "      <td>The Godfather: Part II</td>\n",
       "      <td>1974</td>\n",
       "      <td>9.0</td>\n",
       "      <td>970514.0</td>\n",
       "      <td>3h 22min</td>\n",
       "      <td>Crime</td>\n",
       "      <td>Drama</td>\n",
       "      <td>NaN</td>\n",
       "      <td>NaN</td>\n",
       "      <td>The early life and career of Vito Corleone in ...</td>\n",
       "      <td>...</td>\n",
       "      <td>Al Pacino</td>\n",
       "      <td>Robert De Niro</td>\n",
       "      <td>Robert Duvall</td>\n",
       "      <td>See full cast &amp; crew</td>\n",
       "      <td>NaN</td>\n",
       "      <td>1974-12-20</td>\n",
       "      <td>USA</td>\n",
       "      <td>Mono</td>\n",
       "      <td>NaN</td>\n",
       "      <td>good</td>\n",
       "    </tr>\n",
       "    <tr>\n",
       "      <th>3</th>\n",
       "      <td>The Dark Knight</td>\n",
       "      <td>2008</td>\n",
       "      <td>9.0</td>\n",
       "      <td>2008844.0</td>\n",
       "      <td>2h 32min</td>\n",
       "      <td>Action</td>\n",
       "      <td>Crime</td>\n",
       "      <td>Drama</td>\n",
       "      <td>Thriller</td>\n",
       "      <td>When the menace known as the Joker emerges fro...</td>\n",
       "      <td>...</td>\n",
       "      <td>Christian Bale</td>\n",
       "      <td>Heath Ledger</td>\n",
       "      <td>Aaron Eckhart</td>\n",
       "      <td>See full cast &amp; crew</td>\n",
       "      <td>NaN</td>\n",
       "      <td>2008-07-18</td>\n",
       "      <td>India</td>\n",
       "      <td>Dolby Digital</td>\n",
       "      <td>SDDS</td>\n",
       "      <td>good</td>\n",
       "    </tr>\n",
       "    <tr>\n",
       "      <th>4</th>\n",
       "      <td>12 Angry Men</td>\n",
       "      <td>1957</td>\n",
       "      <td>8.9</td>\n",
       "      <td>574652.0</td>\n",
       "      <td>1h 36min</td>\n",
       "      <td>Drama</td>\n",
       "      <td>NaN</td>\n",
       "      <td>NaN</td>\n",
       "      <td>NaN</td>\n",
       "      <td>A jury holdout attempts to prevent a miscarria...</td>\n",
       "      <td>...</td>\n",
       "      <td>Henry Fonda</td>\n",
       "      <td>Lee J. Cobb</td>\n",
       "      <td>Martin Balsam</td>\n",
       "      <td>See full cast &amp; crew</td>\n",
       "      <td>NaN</td>\n",
       "      <td>2057-04-10</td>\n",
       "      <td>USA</td>\n",
       "      <td>Mono</td>\n",
       "      <td>NaN</td>\n",
       "      <td>good</td>\n",
       "    </tr>\n",
       "  </tbody>\n",
       "</table>\n",
       "<p>5 rows × 34 columns</p>\n",
       "</div>"
      ],
      "text/plain": [
       "                 movie_name  movie_year  movie_rating  no_ratings  \\\n",
       "0  The Shawshank Redemption        1994           9.3   2041257.0   \n",
       "1             The Godfather        1972           9.2   1400023.0   \n",
       "2    The Godfather: Part II        1974           9.0    970514.0   \n",
       "3           The Dark Knight        2008           9.0   2008844.0   \n",
       "4              12 Angry Men        1957           8.9    574652.0   \n",
       "\n",
       "  movie_length  genre1 genre2 genre3    genre4  \\\n",
       "0     2h 22min   Drama    NaN    NaN       NaN   \n",
       "1     2h 55min   Crime  Drama    NaN       NaN   \n",
       "2     3h 22min   Crime  Drama    NaN       NaN   \n",
       "3     2h 32min  Action  Crime  Drama  Thriller   \n",
       "4     1h 36min   Drama    NaN    NaN       NaN   \n",
       "\n",
       "                                             summary   ...             star1  \\\n",
       "0  Two imprisoned men bond over a number of years...   ...       Tim Robbins   \n",
       "1  The aging patriarch of an organized crime dyna...   ...     Marlon Brando   \n",
       "2  The early life and career of Vito Corleone in ...   ...         Al Pacino   \n",
       "3  When the menace known as the Joker emerges fro...   ...    Christian Bale   \n",
       "4  A jury holdout attempts to prevent a miscarria...   ...       Henry Fonda   \n",
       "\n",
       "            star2          star3                 star4 star5 release_date_act  \\\n",
       "0  Morgan Freeman     Bob Gunton  See full cast & crew   NaN       1994-10-14   \n",
       "1       Al Pacino     James Caan  See full cast & crew   NaN       1972-03-24   \n",
       "2  Robert De Niro  Robert Duvall  See full cast & crew   NaN       1974-12-20   \n",
       "3    Heath Ledger  Aaron Eckhart  See full cast & crew   NaN       2008-07-18   \n",
       "4     Lee J. Cobb  Martin Balsam  See full cast & crew   NaN       2057-04-10   \n",
       "\n",
       "  release_country         sound1 sound2  labels  \n",
       "0             USA  Dolby Digital   SDDS    good  \n",
       "1             USA            DTS   Mono    good  \n",
       "2             USA           Mono    NaN    good  \n",
       "3           India  Dolby Digital   SDDS    good  \n",
       "4             USA           Mono    NaN    good  \n",
       "\n",
       "[5 rows x 34 columns]"
      ]
     },
     "execution_count": 4,
     "metadata": {},
     "output_type": "execute_result"
    }
   ],
   "source": [
    "data.head()"
   ]
  },
  {
   "cell_type": "markdown",
   "metadata": {},
   "source": [
    "### Exploring the genre of the movies "
   ]
  },
  {
   "cell_type": "code",
   "execution_count": 5,
   "metadata": {},
   "outputs": [
    {
     "data": {
      "text/plain": [
       "<matplotlib.axes._subplots.AxesSubplot at 0x1eda5c144e0>"
      ]
     },
     "execution_count": 5,
     "metadata": {},
     "output_type": "execute_result"
    },
    {
     "data": {
      "image/png": "[encoded data removed]",
      "text/plain": [
       "<Figure size 432x288 with 1 Axes>"
      ]
     },
     "metadata": {},
     "output_type": "display_data"
    }
   ],
   "source": [
    "data.genre1.value_counts().plot.bar()"
   ]
  },
  {
   "cell_type": "markdown",
   "metadata": {},
   "source": [
    "#### As it can be seen from the graph drama category dominates followed by crime and action "
   ]
  },
  {
   "cell_type": "code",
   "execution_count": 6,
   "metadata": {},
   "outputs": [
    {
     "data": {
      "text/plain": [
       "<matplotlib.axes._subplots.AxesSubplot at 0x1eda5d500b8>"
      ]
     },
     "execution_count": 6,
     "metadata": {},
     "output_type": "execute_result"
    },
    {
     "data": {
      "image/png": "[encoded data removed]",
      "text/plain": [
       "<Figure size 432x288 with 1 Axes>"
      ]
     },
     "metadata": {},
     "output_type": "display_data"
    }
   ],
   "source": [
    "data.genre2.value_counts().plot.bar()"
   ]
  },
  {
   "cell_type": "markdown",
   "metadata": {},
   "source": [
    "#### As it can also be seen from the second column of genre movies under drama category are more "
   ]
  },
  {
   "cell_type": "markdown",
   "metadata": {},
   "source": [
    "### lets explore keywords now"
   ]
  },
  {
   "cell_type": "code",
   "execution_count": 7,
   "metadata": {},
   "outputs": [],
   "source": [
    "#data.keyword1.value_counts()"
   ]
  },
  {
   "cell_type": "code",
   "execution_count": 8,
   "metadata": {},
   "outputs": [],
   "source": [
    "#data.keyword2.value_counts()"
   ]
  },
  {
   "cell_type": "code",
   "execution_count": 9,
   "metadata": {},
   "outputs": [],
   "source": [
    "#data.keyword3.value_counts()"
   ]
  },
  {
   "cell_type": "code",
   "execution_count": 10,
   "metadata": {},
   "outputs": [],
   "source": [
    "#data.keyword4.value_counts()"
   ]
  },
  {
   "cell_type": "markdown",
   "metadata": {},
   "source": [
    "#### unable to find much on the keywords "
   ]
  },
  {
   "cell_type": "markdown",
   "metadata": {},
   "source": [
    "### Lets explore who are those top writers "
   ]
  },
  {
   "cell_type": "code",
   "execution_count": 11,
   "metadata": {},
   "outputs": [
    {
     "data": {
      "text/plain": [
       "Stanley Kubrick      6\n",
       "Hayao Miyazaki       6\n",
       "Quentin Tarantino    5\n",
       "Charles Chaplin      5\n",
       "Jonathan Nolan       4\n",
       "Akira Kurosawa       4\n",
       "Stephen King         4\n",
       "Ingmar Bergman       4\n",
       "Billy Wilder         3\n",
       "James Cameron        3\n",
       "Name: writer1, dtype: int64"
      ]
     },
     "execution_count": 11,
     "metadata": {},
     "output_type": "execute_result"
    }
   ],
   "source": [
    "data.writer1.value_counts().head(10)"
   ]
  },
  {
   "cell_type": "markdown",
   "metadata": {},
   "source": [
    "#### since we have only 250 movies here are the top 10 writers who contribute for 36 movies "
   ]
  },
  {
   "cell_type": "code",
   "execution_count": 12,
   "metadata": {},
   "outputs": [
    {
     "data": {
      "text/plain": [
       "Christopher Nolan       4\n",
       "George Lucas            3\n",
       "Fran Walsh              3\n",
       "Francis Ford Coppola    2\n",
       "Hideo Oguni             2\n",
       "Akira Kurosawa          2\n",
       "Pete Docter             2\n",
       "Andrew Stanton          2\n",
       "Lana Wachowski          2\n",
       "Nicholas Pileggi        2\n",
       "Name: writer2, dtype: int64"
      ]
     },
     "execution_count": 12,
     "metadata": {},
     "output_type": "execute_result"
    }
   ],
   "source": [
    "data.writer2.value_counts().head(10)"
   ]
  },
  {
   "cell_type": "markdown",
   "metadata": {},
   "source": [
    "#### Here is the second list of wrriters who are prefferd options"
   ]
  },
  {
   "cell_type": "markdown",
   "metadata": {},
   "source": [
    "### Does production company has anything to do with the movie?"
   ]
  },
  {
   "cell_type": "code",
   "execution_count": 13,
   "metadata": {},
   "outputs": [
    {
     "data": {
      "text/plain": [
       "Warner Bros.                     18\n",
       "Paramount Pictures               11\n",
       "Columbia Pictures Corporation     8\n",
       "Universal Pictures                8\n",
       "Twentieth Century Fox             7\n",
       "Metro-Goldwyn-Mayer (MGM)         6\n",
       "DreamWorks                        5\n",
       "Pixar Animation Studios           5\n",
       "Charles Chaplin Productions       5\n",
       "New Line Cinema                   4\n",
       "Walt Disney Pictures              4\n",
       "Paramount Vantage                 3\n",
       "Aamir Khan Productions            3\n",
       "Castle Rock Entertainment         3\n",
       "Toho Company                      3\n",
       "Name: production_company, dtype: int64"
      ]
     },
     "execution_count": 13,
     "metadata": {},
     "output_type": "execute_result"
    }
   ],
   "source": [
    "data.production_company.value_counts().head(15)"
   ]
  },
  {
   "cell_type": "markdown",
   "metadata": {},
   "source": [
    "##### Here is the list of top 15 production companies which accounts for 93 of total 250 top rated movies"
   ]
  },
  {
   "cell_type": "markdown",
   "metadata": {},
   "source": [
    "### Who are those top directors to get for a movie "
   ]
  },
  {
   "cell_type": "code",
   "execution_count": 14,
   "metadata": {},
   "outputs": [
    {
     "data": {
      "text/plain": [
       "notfound             23\n",
       "Martin Scorsese       7\n",
       "Christopher Nolan     7\n",
       "Stanley Kubrick       7\n",
       "Steven Spielberg      7\n",
       "Akira Kurosawa        6\n",
       "Alfred Hitchcock      6\n",
       "Hayao Miyazaki        5\n",
       "Charles Chaplin       5\n",
       "Billy Wilder          5\n",
       "Ingmar Bergman        4\n",
       "Quentin Tarantino     4\n",
       "Sergio Leone          4\n",
       "Peter Jackson         3\n",
       "Clint Eastwood        3\n",
       "James Cameron         3\n",
       "Name: director_name, dtype: int64"
      ]
     },
     "execution_count": 14,
     "metadata": {},
     "output_type": "execute_result"
    }
   ],
   "source": [
    "data.director_name.value_counts().head(16)"
   ]
  },
  {
   "cell_type": "markdown",
   "metadata": {},
   "source": [
    "#### here is the list of top 15 directors for a movie "
   ]
  },
  {
   "cell_type": "markdown",
   "metadata": {},
   "source": [
    "##             "
   ]
  },
  {
   "cell_type": "markdown",
   "metadata": {},
   "source": [
    "### How does the star affect movie rating "
   ]
  },
  {
   "cell_type": "code",
   "execution_count": 15,
   "metadata": {},
   "outputs": [
    {
     "data": {
      "text/plain": [
       "Robert De Niro       6\n",
       "Tom Hanks            5\n",
       "Leonardo DiCaprio    5\n",
       "Charles Chaplin      5\n",
       "Aamir Khan           4\n",
       "James Stewart        4\n",
       "Clint Eastwood       4\n",
       "ToshirÃÂ´ Mifune    4\n",
       "Christian Bale       4\n",
       "Jack Nicholson       3\n",
       "Name: star1, dtype: int64"
      ]
     },
     "execution_count": 15,
     "metadata": {},
     "output_type": "execute_result"
    }
   ],
   "source": [
    "data.star1.value_counts().head(10)"
   ]
  },
  {
   "cell_type": "code",
   "execution_count": 16,
   "metadata": {},
   "outputs": [
    {
     "data": {
      "text/plain": [
       "Harrison Ford      3\n",
       "Matt Damon         3\n",
       "Alec Guinness      2\n",
       "Robert De Niro     2\n",
       "Grace Kelly        2\n",
       "Ed Harris          2\n",
       "Chris Hemsworth    2\n",
       "Julie Delpy        2\n",
       "Joseph Cotten      2\n",
       "Ian McKellen       2\n",
       "Name: star2, dtype: int64"
      ]
     },
     "execution_count": 16,
     "metadata": {},
     "output_type": "execute_result"
    }
   ],
   "source": [
    "data.star2.value_counts().head(10)"
   ]
  },
  {
   "cell_type": "markdown",
   "metadata": {},
   "source": [
    "### here are some of top actors to choose from for top rated movies "
   ]
  },
  {
   "cell_type": "markdown",
   "metadata": {},
   "source": [
    "###    "
   ]
  },
  {
   "cell_type": "markdown",
   "metadata": {},
   "source": [
    "## What is the average length of top rated movies "
   ]
  },
  {
   "cell_type": "code",
   "execution_count": 17,
   "metadata": {},
   "outputs": [
    {
     "data": {
      "text/plain": [
       "129.86693548387098"
      ]
     },
     "execution_count": 17,
     "metadata": {},
     "output_type": "execute_result"
    }
   ],
   "source": [
    "data.movie_length_min.mean()"
   ]
  },
  {
   "cell_type": "markdown",
   "metadata": {},
   "source": [
    "#### so the average length is slight more than 2 hours"
   ]
  },
  {
   "cell_type": "markdown",
   "metadata": {},
   "source": [
    "##   "
   ]
  },
  {
   "cell_type": "markdown",
   "metadata": {},
   "source": [
    "## what is the average budget of the top rated movies "
   ]
  },
  {
   "cell_type": "code",
   "execution_count": 18,
   "metadata": {},
   "outputs": [
    {
     "data": {
      "text/plain": [
       "84161177.31818181"
      ]
     },
     "execution_count": 18,
     "metadata": {},
     "output_type": "execute_result"
    }
   ],
   "source": [
    "data.budget.mean()"
   ]
  },
  {
   "cell_type": "markdown",
   "metadata": {},
   "source": [
    "### 84161177 is the average budget of top rated movies "
   ]
  },
  {
   "cell_type": "code",
   "execution_count": null,
   "metadata": {},
   "outputs": [],
   "source": []
  },
  {
   "cell_type": "markdown",
   "metadata": {},
   "source": [
    "## This was the simple analysis completed due to shortage of time |"
   ]
  },
  {
   "cell_type": "code",
   "execution_count": null,
   "metadata": {},
   "outputs": [],
   "source": []
  }
 ],
 "metadata": {
  "kernelspec": {
   "display_name": "Python 3",
   "language": "python",
   "name": "python3"
  },
  "language_info": {
   "codemirror_mode": {
    "name": "ipython",
    "version": 3
   },
   "file_extension": ".py",
   "mimetype": "text/x-python",
   "name": "python",
   "nbconvert_exporter": "python",
   "pygments_lexer": "ipython3",
   "version": "3.6.5"
  }
 },
 "nbformat": 4,
 "nbformat_minor": 2
}
